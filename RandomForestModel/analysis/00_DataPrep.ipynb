{
 "cells": [
  {
   "cell_type": "code",
   "execution_count": 1,
   "metadata": {},
   "outputs": [],
   "source": [
    "import pandas as pd\n",
    "import os"
   ]
  },
  {
   "cell_type": "code",
   "execution_count": 2,
   "metadata": {},
   "outputs": [],
   "source": [
    "out = '../results/ModelDatasets/'\n",
    "os.makedirs(out, exist_ok=True)"
   ]
  },
  {
   "cell_type": "markdown",
   "metadata": {},
   "source": [
    "## Processing feature tables"
   ]
  },
  {
   "cell_type": "code",
   "execution_count": 3,
   "metadata": {},
   "outputs": [],
   "source": [
    "# Load data\n",
    "\n",
    "# load compiled datasets table\n",
    "dfMain = pd.read_csv('../data/out_compiled_tx_features.txt', sep='\\t', low_memory=False)\n",
    "# GeRM peaks\n",
    "dfGerms = pd.read_csv('../data/2023_Faraway/GeRMregions.tsv', sep='\\t')\n",
    "# Convert gene_id to stable gene id\n",
    "dfGerms['gene_id'] = dfGerms['gene_id'].str.split('.').str[0]\n",
    "\n",
    "# Summed MV score per transcript\n",
    "dfMV = pd.read_csv('../data/2023_Faraway/summed_multivalency_score_per_cluster_per_transcript.tsv', sep='\\t')\n",
    "# add stable gene id\n",
    "dfMV = dfMV.merge(dfMain[['transcript_id', 'gene_id']], on='transcript_id', how='left')"
   ]
  },
  {
   "cell_type": "code",
   "execution_count": 4,
   "metadata": {},
   "outputs": [],
   "source": [
    "# # Convert df MV to three tables, with transcript ID as index and columns matching cluster_name_short\n",
    "# DfGerms groupby, how many cluster_name per transcript\n",
    "dfPeakNumber = dfGerms.groupby(['gene_id', 'cluster_name']).size().reset_index().rename(columns={0: 'peak_number'})\n",
    "# Pivot table\n",
    "dfPeakNumber = dfPeakNumber.pivot(index='gene_id', columns='cluster_name', values='peak_number').fillna(0)\n",
    "dfPeakNumber.sort_values(by='A-rich Pur.', ascending=False, inplace=True)\n",
    "# Tx Info\n",
    "dfTxInfo = dfMain.copy()[['gene_id', 'cds_length', 'tx_length', 'longest_all_exons', 'number_all_exons', 'longest_coding_exon', 'number_coding_exon']].dropna().set_index('gene_id')\n",
    "# Purine multivalency features; bring them to the same index\n",
    "dfPurineMv = dfMain.copy()[['gene_id', 'purine_multivalency_score', 'percentage_score_distant_from_junction', 'purine_multivalency_class', 'purine_multivalency_location']].set_index('gene_id')"
   ]
  },
  {
   "cell_type": "code",
   "execution_count": 5,
   "metadata": {},
   "outputs": [],
   "source": [
    "# Save data tables\n",
    "dfPeakNumber.to_csv(f'{out}2023-Faraway_NGeRMPeaks.tsv', sep='\\t')\n",
    "dfTxInfo.to_csv(f'{out}2023-Faraway_TranscriptInfo.tsv', sep='\\t')\n",
    "dfPurineMv.to_csv(f'{out}2023-Faraway_PurineMvFeatures.tsv', sep='\\t')"
   ]
  }
 ],
 "metadata": {
  "kernelspec": {
   "display_name": "interstasis_paper",
   "language": "python",
   "name": "python3"
  },
  "language_info": {
   "codemirror_mode": {
    "name": "ipython",
    "version": 3
   },
   "file_extension": ".py",
   "mimetype": "text/x-python",
   "name": "python",
   "nbconvert_exporter": "python",
   "pygments_lexer": "ipython3",
   "version": "3.13.5"
  },
  "orig_nbformat": 4
 },
 "nbformat": 4,
 "nbformat_minor": 2
}
